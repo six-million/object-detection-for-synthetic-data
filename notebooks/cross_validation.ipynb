{
 "cells": [
  {
   "cell_type": "code",
   "execution_count": 1,
   "metadata": {},
   "outputs": [
    {
     "name": "stdout",
     "output_type": "stream",
     "text": [
      "{0: 'chevrolet_malibu_sedan_2012_2016', 1: 'chevrolet_malibu_sedan_2017_2019', 2: 'chevrolet_spark_hatchback_2016_2021', 3: 'chevrolet_trailblazer_suv_2021_', 4: 'chevrolet_trax_suv_2017_2019', 5: 'genesis_g80_sedan_2016_2020', 6: 'genesis_g80_sedan_2021_', 7: 'genesis_gv80_suv_2020_', 8: 'hyundai_avante_sedan_2011_2015', 9: 'hyundai_avante_sedan_2020_', 10: 'hyundai_grandeur_sedan_2011_2016', 11: 'hyundai_grandstarex_van_2018_2020', 12: 'hyundai_ioniq_hatchback_2016_2019', 13: 'hyundai_sonata_sedan_2004_2009', 14: 'hyundai_sonata_sedan_2010_2014', 15: 'hyundai_sonata_sedan_2019_2020', 16: 'kia_carnival_van_2015_2020', 17: 'kia_carnival_van_2021_', 18: 'kia_k5_sedan_2010_2015', 19: 'kia_k5_sedan_2020_', 20: 'kia_k7_sedan_2016_2020', 21: 'kia_mohave_suv_2020_', 22: 'kia_morning_hatchback_2004_2010', 23: 'kia_morning_hatchback_2011_2016', 24: 'kia_ray_hatchback_2012_2017', 25: 'kia_sorrento_suv_2015_2019', 26: 'kia_sorrento_suv_2020_', 27: 'kia_soul_suv_2014_2018', 28: 'kia_sportage_suv_2016_2020', 29: 'kia_stonic_suv_2017_2019', 30: 'renault_sm3_sedan_2015_2018', 31: 'renault_xm3_suv_2020_', 32: 'ssangyong_korando_suv_2019_2020', 33: 'ssangyong_tivoli_suv_2016_2020'}\n",
      "{'chevrolet_malibu_sedan_2012_2016': 0, 'chevrolet_malibu_sedan_2017_2019': 1, 'chevrolet_spark_hatchback_2016_2021': 2, 'chevrolet_trailblazer_suv_2021_': 3, 'chevrolet_trax_suv_2017_2019': 4, 'genesis_g80_sedan_2016_2020': 5, 'genesis_g80_sedan_2021_': 6, 'genesis_gv80_suv_2020_': 7, 'hyundai_avante_sedan_2011_2015': 8, 'hyundai_avante_sedan_2020_': 9, 'hyundai_grandeur_sedan_2011_2016': 10, 'hyundai_grandstarex_van_2018_2020': 11, 'hyundai_ioniq_hatchback_2016_2019': 12, 'hyundai_sonata_sedan_2004_2009': 13, 'hyundai_sonata_sedan_2010_2014': 14, 'hyundai_sonata_sedan_2019_2020': 15, 'kia_carnival_van_2015_2020': 16, 'kia_carnival_van_2021_': 17, 'kia_k5_sedan_2010_2015': 18, 'kia_k5_sedan_2020_': 19, 'kia_k7_sedan_2016_2020': 20, 'kia_mohave_suv_2020_': 21, 'kia_morning_hatchback_2004_2010': 22, 'kia_morning_hatchback_2011_2016': 23, 'kia_ray_hatchback_2012_2017': 24, 'kia_sorrento_suv_2015_2019': 25, 'kia_sorrento_suv_2020_': 26, 'kia_soul_suv_2014_2018': 27, 'kia_sportage_suv_2016_2020': 28, 'kia_stonic_suv_2017_2019': 29, 'renault_sm3_sedan_2015_2018': 30, 'renault_xm3_suv_2020_': 31, 'ssangyong_korando_suv_2019_2020': 32, 'ssangyong_tivoli_suv_2016_2020': 33}\n"
     ]
    }
   ],
   "source": [
    "import json\n",
    "import pandas as pd\n",
    "from collections import defaultdict\n",
    "from pycocotools.coco import COCO\n",
    "from sklearn.model_selection import StratifiedGroupKFold\n",
    "\n",
    "f = open('./open/classes.txt', 'r')\n",
    "lines = [list(line.strip().split(',')) for line in f.readlines()]\n",
    "f.close()\n",
    "\n",
    "encode = {}\n",
    "decode = {}\n",
    "for cls_num, cls_name in lines:\n",
    "    encode[int(cls_num)] = cls_name\n",
    "    decode[cls_name] = int(cls_num)\n",
    "\n",
    "print(encode)\n",
    "print(decode)"
   ]
  },
  {
   "cell_type": "code",
   "execution_count": 2,
   "metadata": {},
   "outputs": [
    {
     "name": "stdout",
     "output_type": "stream",
     "text": [
      "chevrolet_malibu_sedan_2012_2016 -> 500\n",
      "hyundai_sonata_sedan_2019_2020 -> 500\n",
      "kia_ray_hatchback_2012_2017 -> 500\n",
      "kia_stonic_suv_2017_2019 -> 500\n",
      "kia_sorrento_suv_2015_2019 -> 500\n",
      "chevrolet_trailblazer_suv_2021_ -> 500\n",
      "chevrolet_spark_hatchback_2016_2021 -> 500\n",
      "hyundai_ioniq_hatchback_2016_2019 -> 500\n",
      "kia_carnival_van_2021_ -> 500\n",
      "kia_soul_suv_2014_2018 -> 500\n",
      "ssangyong_tivoli_suv_2016_2020 -> 500\n",
      "genesis_gv80_suv_2020_ -> 500\n",
      "kia_morning_hatchback_2004_2010 -> 500\n",
      "hyundai_avante_sedan_2011_2015 -> 500\n",
      "kia_k5_sedan_2020_ -> 500\n",
      "renault_sm3_sedan_2015_2018 -> 500\n",
      "kia_k7_sedan_2016_2020 -> 500\n",
      "hyundai_sonata_sedan_2004_2009 -> 500\n",
      "kia_sorrento_suv_2020_ -> 500\n",
      "kia_sportage_suv_2016_2020 -> 500\n",
      "genesis_g80_sedan_2016_2020 -> 500\n",
      "hyundai_grandstarex_van_2018_2020 -> 500\n",
      "hyundai_grandeur_sedan_2011_2016 -> 500\n",
      "kia_mohave_suv_2020_ -> 500\n",
      "kia_morning_hatchback_2011_2016 -> 500\n",
      "hyundai_avante_sedan_2020_ -> 500\n",
      "chevrolet_trax_suv_2017_2019 -> 500\n",
      "hyundai_sonata_sedan_2010_2014 -> 500\n",
      "renault_xm3_suv_2020_ -> 500\n",
      "chevrolet_malibu_sedan_2017_2019 -> 500\n",
      "kia_carnival_van_2015_2020 -> 500\n",
      "genesis_g80_sedan_2021_ -> 500\n",
      "ssangyong_korando_suv_2019_2020 -> 500\n",
      "kia_k5_sedan_2010_2015 -> 500\n"
     ]
    }
   ],
   "source": [
    "base_dir = './open/train'\n",
    "anno_dir = './open/train.json'\n",
    "target_json = json.load(open(anno_dir))\n",
    "tangent_dict = defaultdict(list)\n",
    "\n",
    "# 클래스별 bbox의 tangent 값 저장 & 클래스별 bbox 개수 출력\n",
    "for info in target_json['annotations']:\n",
    "    category_id = info['category_id']\n",
    "    areas = info['area']\n",
    "    xmin, ymin, xmax, ymax = info['bbox']\n",
    "    w = xmax - xmin\n",
    "    h = ymax - ymin\n",
    "    tan = h / w\n",
    "    tangent_dict[category_id].append(tan)\n",
    "    \n",
    "for k,v in tangent_dict.items():\n",
    "    print(encode[k] , '->', len(v))\n"
   ]
  },
  {
   "cell_type": "code",
   "execution_count": 3,
   "metadata": {},
   "outputs": [
    {
     "name": "stdout",
     "output_type": "stream",
     "text": [
      "chevrolet_malibu_sedan_2012_2016 -> [0.93, 1.04]\n",
      "hyundai_sonata_sedan_2019_2020 -> [0.93, 1.02]\n",
      "kia_ray_hatchback_2012_2017 -> [1.16, 1.3]\n",
      "kia_stonic_suv_2017_2019 -> [0.99, 1.12]\n",
      "kia_sorrento_suv_2015_2019 -> [1.04, 1.19]\n",
      "chevrolet_trailblazer_suv_2021_ -> [1.03, 1.1]\n",
      "chevrolet_spark_hatchback_2016_2021 -> [1.1, 1.17]\n",
      "hyundai_ioniq_hatchback_2016_2019 -> [0.94, 1.03]\n",
      "kia_carnival_van_2021_ -> [1.03, 1.16]\n",
      "kia_soul_suv_2014_2018 -> [1.04, 1.17]\n",
      "ssangyong_tivoli_suv_2016_2020 -> [1.01, 1.13]\n",
      "genesis_gv80_suv_2020_ -> [1.03, 1.16]\n",
      "kia_morning_hatchback_2004_2010 -> [1.06, 1.18]\n",
      "hyundai_avante_sedan_2011_2015 -> [0.94, 1.04]\n",
      "kia_k5_sedan_2020_ -> [0.93, 1.03]\n",
      "renault_sm3_sedan_2015_2018 -> [0.96, 1.07]\n",
      "kia_k7_sedan_2016_2020 -> [0.97, 1.07]\n",
      "hyundai_sonata_sedan_2004_2009 -> [0.92, 1.04]\n",
      "kia_sorrento_suv_2020_ -> [1.05, 1.18]\n",
      "kia_sportage_suv_2016_2020 -> [1.02, 1.14]\n",
      "genesis_g80_sedan_2016_2020 -> [0.93, 1.03]\n",
      "hyundai_grandstarex_van_2018_2020 -> [1.16, 1.31]\n",
      "hyundai_grandeur_sedan_2011_2016 -> [0.93, 1.04]\n",
      "kia_mohave_suv_2020_ -> [1.1, 1.19]\n",
      "kia_morning_hatchback_2011_2016 -> [1.04, 1.13]\n",
      "hyundai_avante_sedan_2020_ -> [0.91, 1.0]\n",
      "chevrolet_trax_suv_2017_2019 -> [1.08, 1.21]\n",
      "hyundai_sonata_sedan_2010_2014 -> [0.96, 1.08]\n",
      "renault_xm3_suv_2020_ -> [0.93, 1.05]\n",
      "chevrolet_malibu_sedan_2017_2019 -> [0.91, 1.0]\n",
      "kia_carnival_van_2015_2020 -> [1.07, 1.2]\n",
      "genesis_g80_sedan_2021_ -> [0.89, 1.0]\n",
      "ssangyong_korando_suv_2019_2020 -> [1.03, 1.15]\n",
      "kia_k5_sedan_2010_2015 -> [0.95, 1.04]\n"
     ]
    }
   ],
   "source": [
    "# 클래스별 tanget 값의 0.3분위수 구하기\n",
    "quantiles_dict = defaultdict(list)\n",
    "for k,v in tangent_dict.items():\n",
    "    quantiles_dict[encode[k]] = [round(q, 2) for q in pd.Series(v).quantile([0.3, 0.7]).tolist()]\n",
    "\n",
    "for k,v in quantiles_dict.items():\n",
    "    print(k, '->', v)\n"
   ]
  },
  {
   "cell_type": "code",
   "execution_count": 4,
   "metadata": {},
   "outputs": [
    {
     "name": "stdout",
     "output_type": "stream",
     "text": [
      "loading annotations into memory...\n",
      "Done (t=0.07s)\n",
      "creating index...\n",
      "index created!\n",
      "X=17000개, Y=17000개, G=17000개\n",
      "True\n",
      "X=['syn_00710.png', 'syn_00710.png', 'syn_00710.png', 'syn_06361.png', 'syn_06361.png'], min=syn_00000.png, max=syn_06480.png\n",
      "Y=[0, 49, 58, 63, 93], min=0, max=101\n",
      "G=['syn_00710.png', 'syn_00710.png', 'syn_00710.png', 'syn_06361.png', 'syn_06361.png'], min=syn_00000.png, max=syn_06480.png\n"
     ]
    }
   ],
   "source": [
    "# FOLD 나누기\n",
    "# 그룹 생성: Y를 statify하게 나누고, 같은 GROUP(같은 이미지의 어노테이션)의 이미지는 같은 fold에 들어가도록\n",
    "# 그룹 = 이미지 이름\n",
    "# 라벨 = 클래스 & tan 값으로 총 34 * 3 = 102개\n",
    "coco = COCO(anno_dir)\n",
    "class_labels = [category['name'] for _, category in coco.cats.items()]\n",
    "num_classes = len(class_labels)\n",
    "\n",
    "X = [] # 입력데이터(이미지 이름) -> GROUP과 동일\n",
    "Y = [] # 라벨(클래스)\n",
    "GROUP = [] # 그룹(이미지 이름)\n",
    "image_ids = coco.getImgIds() # 이미지 index\n",
    "ann_cnt = 0 # 결과 비교할 어노테이션 개수 카운트\n",
    "for image_id in image_ids:\n",
    "    img_info = coco.loadImgs(image_id)[0]\n",
    "    \n",
    "    ann_ids = coco.getAnnIds(imgIds=image_id)\n",
    "    anns = coco.loadAnns(ann_ids)\n",
    "    for ann in anns:\n",
    "        category_id = ann['category_id']\n",
    "        xmin, ymin, xmax, ymax = ann['bbox']\n",
    "        w = xmax - xmin\n",
    "        h = ymax - ymin\n",
    "        tan = h / w\n",
    "        \n",
    "        # 삼분위수 기준으로 그룹 생성\n",
    "        if quantiles_dict[encode[category_id]][0] < tan < quantiles_dict[encode[category_id]][1]:\n",
    "            category_id += num_classes\n",
    "        elif quantiles_dict[encode[category_id]][1] <= tan:\n",
    "            category_id += num_classes * 2\n",
    "\n",
    "        X.append(img_info['file_name'])\n",
    "        Y.append(category_id)\n",
    "        GROUP.append(img_info['file_name'])\n",
    "        ann_cnt += 1\n",
    "\n",
    "print(f'X={len(X)}개, Y={len(Y)}개, G={len(GROUP)}개')\n",
    "print(ann_cnt == len(X) == len(Y) == len(GROUP))\n",
    "print(f'X={X[:5]}, min={min(X)}, max={max(X)}')\n",
    "print(f'Y={Y[:5]}, min={min(Y)}, max={max(Y)}')\n",
    "print(f'G={GROUP[:5]}, min={min(GROUP)}, max={max(GROUP)}')"
   ]
  },
  {
   "cell_type": "code",
   "execution_count": 5,
   "metadata": {},
   "outputs": [
    {
     "name": "stdout",
     "output_type": "stream",
     "text": [
      "\n",
      "Fold 0 -> train: 5186, valid: 1295, total = 6481 -> Test Passed\n",
      "Fold 1 -> train: 5186, valid: 1295, total = 6481 -> Test Passed\n",
      "Fold 2 -> train: 5185, valid: 1296, total = 6481 -> Test Passed\n",
      "Fold 3 -> train: 5183, valid: 1298, total = 6481 -> Test Passed\n",
      "Fold 4 -> train: 5184, valid: 1297, total = 6481 -> Test Passed\n"
     ]
    }
   ],
   "source": [
    "# 그룹으로 fold 나누기\n",
    "n_splits = 5\n",
    "fold_results = dict()\n",
    "print()\n",
    "\n",
    "for i, (train_idx, test_idx) in enumerate(StratifiedGroupKFold(n_splits=n_splits).split(X, Y, GROUP)):\n",
    "    fold_results[i] = {\n",
    "        'train': sorted(list(set([X[idx] for idx in train_idx]))), # annotation_id를 이미지 이름으로 변경\n",
    "        'valid': sorted(list(set([X[idx] for idx in test_idx]))), # annotation_id를 이미지 이름으로 변경\n",
    "    }\n",
    "    print(f'Fold {i} -> train: {len(fold_results[i][\"train\"])}, valid: {len(fold_results[i][\"valid\"])}, total = {len(fold_results[i][\"train\"]) + len(fold_results[i][\"valid\"])}', end=' -> ')\n",
    "    # train과 valid에 중복되는 이미지가 있는지 확인 & train + valid = 전체 어노테이션 개수 확인\n",
    "    print('Test Passed' if len(set(fold_results[i]['train']) & set(fold_results[i]['valid'])) == 0 and len(set(fold_results[i]['train']) | set(fold_results[i]['valid'])) == len(coco.getImgIds()) else 'Test Failed')\n",
    "    assert len(set(fold_results[i]['train']) & set(fold_results[i]['valid'])) == 0 and len(set(fold_results[i]['train']) | set(fold_results[i]['valid'])) == len(coco.getImgIds()), 'Test Failed'\n",
    "    # fold_results[i]['train'] = sorted(list(set(fold_results[i]['train'])))\n",
    "    # fold_results[i]['valid'] = sorted(list(set(fold_results[i]['valid'])))\n",
    "    fold_results[i]['train'] = list(set(fold_results[i]['train']))\n",
    "    fold_results[i]['valid'] = list(set(fold_results[i]['valid']))"
   ]
  },
  {
   "cell_type": "code",
   "execution_count": 6,
   "metadata": {},
   "outputs": [
    {
     "name": "stdout",
     "output_type": "stream",
     "text": [
      "['syn_01929.png', 'syn_04212.png', 'syn_00182.png', 'syn_00583.png', 'syn_06149.png']\n",
      "['syn_04397.png', 'syn_04988.png', 'syn_05253.png', 'syn_04293.png', 'syn_01504.png']\n"
     ]
    }
   ],
   "source": [
    "print(fold_results[0]['train'][:5])\n",
    "print(fold_results[0]['valid'][:5])"
   ]
  },
  {
   "cell_type": "code",
   "execution_count": 7,
   "metadata": {},
   "outputs": [
    {
     "name": "stdout",
     "output_type": "stream",
     "text": [
      "syn_00710.png [{'width': 1920, 'height': 1040, 'file_name': 'syn_00710.png', 'license': 0, 'flickr_url': 'null', 'coco_url': 'null', 'date_captured': 'null', 'id': 0}, [{'image_id': 0, 'category_id': 0, 'area': 68172, 'bbox': [1000, 167, 1276, 414], 'iscrowd': 0, 'id': 0}, {'image_id': 0, 'category_id': 15, 'area': 94248, 'bbox': [794, 488, 1102, 794], 'iscrowd': 0, 'id': 1}, {'image_id': 0, 'category_id': 24, 'area': 61476, 'bbox': [311, 163, 529, 445], 'iscrowd': 0, 'id': 2}]]\n"
     ]
    }
   ],
   "source": [
    "# 이미지 이름으로 annotation 가져올 때 필요한 dict 생성\n",
    "def get_coco_dict(coco):\n",
    "    coco_dict = dict()\n",
    "    for image_id in coco.getImgIds():\n",
    "        img_info = coco.loadImgs(image_id)[0]\n",
    "        ann_ids = coco.getAnnIds(imgIds=image_id)\n",
    "        anns = coco.loadAnns(ann_ids)\n",
    "        coco_dict[img_info['file_name']] = [img_info, anns]\n",
    "    return coco_dict\n",
    "\n",
    "coco_dict = get_coco_dict(coco)\n",
    "for k,v in coco_dict.items():\n",
    "    print(k, v)\n",
    "    break"
   ]
  },
  {
   "cell_type": "code",
   "execution_count": 8,
   "metadata": {},
   "outputs": [
    {
     "name": "stdout",
     "output_type": "stream",
     "text": [
      "train0.json saved\n",
      "valid0.json saved\n",
      "train1.json saved\n",
      "valid1.json saved\n",
      "train2.json saved\n",
      "valid2.json saved\n",
      "train3.json saved\n",
      "valid3.json saved\n",
      "train4.json saved\n",
      "valid4.json saved\n",
      "\n",
      "loading annotations into memory...\n",
      "Done (t=0.02s)\n",
      "creating index...\n",
      "index created!\n",
      "!!!train0.json coco format test passed!!!\n",
      "\n",
      "loading annotations into memory...\n",
      "Done (t=0.01s)\n",
      "creating index...\n",
      "index created!\n",
      "!!!valid0.json coco format test passed!!!\n",
      "\n",
      "loading annotations into memory...\n",
      "Done (t=0.07s)\n",
      "creating index...\n",
      "index created!\n",
      "!!!train1.json coco format test passed!!!\n",
      "\n",
      "loading annotations into memory...\n",
      "Done (t=0.01s)\n",
      "creating index...\n",
      "index created!\n",
      "!!!valid1.json coco format test passed!!!\n",
      "\n",
      "loading annotations into memory...\n",
      "Done (t=0.02s)\n",
      "creating index...\n",
      "index created!\n",
      "!!!train2.json coco format test passed!!!\n",
      "\n",
      "loading annotations into memory...\n",
      "Done (t=0.01s)\n",
      "creating index...\n",
      "index created!\n",
      "!!!valid2.json coco format test passed!!!\n",
      "\n",
      "loading annotations into memory...\n",
      "Done (t=0.02s)\n",
      "creating index...\n",
      "index created!\n",
      "!!!train3.json coco format test passed!!!\n",
      "\n",
      "loading annotations into memory...\n",
      "Done (t=0.01s)\n",
      "creating index...\n",
      "index created!\n",
      "!!!valid3.json coco format test passed!!!\n",
      "\n",
      "loading annotations into memory...\n",
      "Done (t=0.02s)\n",
      "creating index...\n",
      "index created!\n",
      "!!!train4.json coco format test passed!!!\n",
      "\n",
      "loading annotations into memory...\n",
      "Done (t=0.01s)\n",
      "creating index...\n",
      "index created!\n",
      "!!!valid4.json coco format test passed!!!\n",
      "\n"
     ]
    }
   ],
   "source": [
    "# original_json의 포멧인 빈 coco json 객체 생성 함수\n",
    "def get_coco_json(original_json):\n",
    "    coco_json = {\n",
    "        'info': original_json['info'],\n",
    "        'licenses': original_json['licenses'],\n",
    "        'categories': original_json['categories'],\n",
    "        'images': [],\n",
    "        'annotations': [],\n",
    "    }\n",
    "    return coco_json\n",
    "\n",
    "import os\n",
    "base_dir = f'./open/{n_splits}fold'\n",
    "if not os.path.exists(base_dir):\n",
    "    os.makedirs(base_dir)\n",
    "\n",
    "for i in fold_results.keys():\n",
    "    # train fold json 생성\n",
    "    train_fold_json = get_coco_json(target_json)\n",
    "    for img_name in fold_results[i]['train']:\n",
    "        img_info, anns = coco_dict[img_name]\n",
    "        train_fold_json['images'].append(img_info)\n",
    "        train_fold_json['annotations'] += anns[:]\n",
    "    \n",
    "    with open(os.path.join(base_dir,f'train{i}.json'), 'w') as outfile:\n",
    "        json.dump(train_fold_json, outfile, indent=2)\n",
    "    \n",
    "    print(f'train{i}.json saved')\n",
    "\n",
    "    # valid fold json 생성\n",
    "    valid_fold_json = get_coco_json(target_json)\n",
    "    for img_idx in fold_results[i]['valid']:\n",
    "        img_info, anns = coco_dict[img_name]\n",
    "        valid_fold_json['images'].append(img_info)\n",
    "        valid_fold_json['annotations'] += anns[:]\n",
    "\n",
    "    with open(os.path.join(base_dir,f'valid{i}.json'), 'w') as outfile:\n",
    "        json.dump(valid_fold_json, outfile, indent=2)\n",
    "    \n",
    "    print(f'valid{i}.json saved')\n",
    "print()\n",
    "\n",
    "# coco format 확인\n",
    "for i in fold_results.keys():\n",
    "    dir = os.path.join(base_dir,f'train{i}.json')\n",
    "    cocoformattest = COCO(dir)\n",
    "    print(f'!!!train{i}.json coco format test passed!!!')\n",
    "    print()\n",
    "\n",
    "    dir = os.path.join(base_dir,f'valid{i}.json')\n",
    "    cocoformattest = COCO(dir)\n",
    "    print(f'!!!valid{i}.json coco format test passed!!!')\n",
    "    print()"
   ]
  },
  {
   "cell_type": "code",
   "execution_count": null,
   "metadata": {},
   "outputs": [],
   "source": []
  },
  {
   "cell_type": "code",
   "execution_count": null,
   "metadata": {},
   "outputs": [],
   "source": []
  }
 ],
 "metadata": {
  "kernelspec": {
   "display_name": "od",
   "language": "python",
   "name": "python3"
  },
  "language_info": {
   "codemirror_mode": {
    "name": "ipython",
    "version": 3
   },
   "file_extension": ".py",
   "mimetype": "text/x-python",
   "name": "python",
   "nbconvert_exporter": "python",
   "pygments_lexer": "ipython3",
   "version": "3.11.3"
  },
  "orig_nbformat": 4
 },
 "nbformat": 4,
 "nbformat_minor": 2
}
